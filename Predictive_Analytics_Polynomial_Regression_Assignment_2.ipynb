{
  "nbformat": 4,
  "nbformat_minor": 0,
  "metadata": {
    "colab": {
      "provenance": []
    },
    "kernelspec": {
      "name": "python3",
      "display_name": "Python 3"
    },
    "language_info": {
      "name": "python"
    }
  },
  "cells": [
    {
      "cell_type": "markdown",
      "source": [
        "# Problem Description:\n",
        "A Human Resource company needs to determine the salary for a new job position being created. They only have access to a salary dataset for the company, which includes salary information for the top 10 positions along with their corresponding levels. The task is to assist HR in deciding the appropriate salary if the new position falls between levels 7 and 8.\n",
        "\n",
        "Data Set: **Position_Salaries.csv**\n",
        "Rules: You are restricted from utilizing the sklearn library.You are limited to using only the libraries provided.\n",
        "\n",
        "Reference : https://www.javatpoint.com/machine-learning-polynomial-regression\n",
        "\n",
        " https://www.kaggle.com/code/omkarsantoshraut/polynomial-regression"
      ],
      "metadata": {
        "id": "AtzSquaQnaBD"
      }
    },
    {
      "cell_type": "code",
      "source": [
        "# Allowded to use only these libraries\n",
        "\n",
        "import numpy as np\n",
        "import matplotlib.pyplot as plt\n",
        "import pandas as pd\n",
        "import seaborn as sns"
      ],
      "metadata": {
        "id": "1tJn4PzWnZtz"
      },
      "execution_count": 1,
      "outputs": []
    },
    {
      "cell_type": "markdown",
      "source": [
        "## Exploratory data analysis"
      ],
      "metadata": {
        "id": "pDonG1iOtiCP"
      }
    },
    {
      "cell_type": "code",
      "source": [
        "import pandas as pd\n",
        "\n",
        "data = pd.read_csv(\"Position_Salaries.csv\")\n",
        "\n",
        "print(data.head())\n",
        "\n",
        "print(data.isnull().sum())\n",
        "\n",
        "print(data.describe())"
      ],
      "metadata": {
        "colab": {
          "base_uri": "https://localhost:8080/"
        },
        "id": "gLH4-tzZYVtH",
        "outputId": "d9e9d3f0-7fc5-420f-ae3a-bcb3edfb16df"
      },
      "execution_count": 2,
      "outputs": [
        {
          "output_type": "stream",
          "name": "stdout",
          "text": [
            "            Position  Level  Salary\n",
            "0   Business Analyst      1   45000\n",
            "1  Junior Consultant      2   50000\n",
            "2  Senior Consultant      3   60000\n",
            "3            Manager      4   80000\n",
            "4    Country Manager      5  110000\n",
            "Position    0\n",
            "Level       0\n",
            "Salary      0\n",
            "dtype: int64\n",
            "          Level          Salary\n",
            "count  10.00000       10.000000\n",
            "mean    5.50000   249500.000000\n",
            "std     3.02765   299373.883668\n",
            "min     1.00000    45000.000000\n",
            "25%     3.25000    65000.000000\n",
            "50%     5.50000   130000.000000\n",
            "75%     7.75000   275000.000000\n",
            "max    10.00000  1000000.000000\n"
          ]
        }
      ]
    },
    {
      "cell_type": "code",
      "source": [
        "import matplotlib.pyplot as plt\n",
        "\n",
        "plt.scatter(data['Level'], data['Salary'], color='red')\n",
        "\n",
        "plt.title('Salary vs Position Level')\n",
        "\n",
        "plt.xlabel('Position Level')\n",
        "\n",
        "plt.ylabel('Salary')\n",
        "\n",
        "plt.show()"
      ],
      "metadata": {
        "colab": {
          "base_uri": "https://localhost:8080/",
          "height": 472
        },
        "id": "9vQDHFIBbEbV",
        "outputId": "ef6c053c-ebd3-456d-f218-6c8a08a5fbad"
      },
      "execution_count": 4,
      "outputs": [
        {
          "output_type": "display_data",
          "data": {
            "text/plain": [
              "<Figure size 640x480 with 1 Axes>"
            ],
            "image/png": "[encoded data removed]"
          },
          "metadata": {}
        }
      ]
    },
    {
      "cell_type": "markdown",
      "source": [
        "### Based on the exploratory data analysis, answer the following\n",
        "\n",
        "\n",
        "* Can you use a simple linear regression model to fit this data (Yes/No)?\n",
        "> * No\n",
        "\n"
      ],
      "metadata": {
        "id": "mvaBWQfAtpp-"
      }
    },
    {
      "cell_type": "markdown",
      "source": [
        "* If you use a simple linear model to fit this data, will it fit well (Yes/No)?\n",
        "> * No\n",
        "\n"
      ],
      "metadata": {
        "id": "y7zqnawNx0hH"
      }
    },
    {
      "cell_type": "markdown",
      "source": [
        "* Explain why you said yes or no to the above questions.\n",
        "> * Because the data does not follow a linear trend. Using the simple linear regression will not able to capture relationship properly.\n",
        "After plotting scatter plot the relationship between position lavel and salary level does not appear linear."
      ],
      "metadata": {
        "id": "OUAByqGsx4Rw"
      }
    },
    {
      "cell_type": "markdown",
      "source": [
        "## Polynomial Regression\n",
        "\n",
        "**Construct a second order Model:** $$\\;\\;\\;\\;\n",
        "\\hat y = w_1 x_1^2 + w_2x_1 + b\n",
        "$$\n",
        "\n",
        "**Construct a Cost function:**\n",
        "$$MSE(w_1,w_2,b)= \\frac{1}{n} \\sum_{i=1}^{n} (y_i - (\\hat{w}_1 x_i^2 + \\hat{w}_2 x_i + b))^2$$"
      ],
      "metadata": {
        "id": "exOvj2CxFelv"
      }
    },
    {
      "cell_type": "markdown",
      "source": [
        "**Gradient Descent Algorithm:**\n",
        "\n",
        "Repeat until convergence:\\\n",
        "Gradient descent involves iteratively updating the parameters using the derivatives of the cost function until convergence.\n",
        "\\[\n",
        "\\begin{align*}\n",
        "w_1 &:= w_1 - \\alpha \\frac{\\partial MSE}{\\partial w_1} \\\\\n",
        "w_2 &:= w_2 - \\alpha \\frac{\\partial MSE}{\\partial w_2} \\\\\n",
        "b &:= b - \\alpha \\frac{\\partial MSE}{\\partial b}\n",
        "\\end{align*}\n",
        "\\]\n",
        "\n",
        "where $\\alpha$ is the learning rate.\""
      ],
      "metadata": {
        "id": "RhMmx21PP-VP"
      }
    },
    {
      "cell_type": "markdown",
      "source": [
        "### By analysing the cost function, answer the following\n",
        "\n",
        "\n",
        "* Can you use mean squared error as the cost function (Yes/No)?\n",
        "> * Yes\n"
      ],
      "metadata": {
        "id": "2aQT57RJySAu"
      }
    },
    {
      "cell_type": "markdown",
      "source": [
        "* Explain why you said yes or no to the above questions.\n",
        "> * Mean squarred error measures the average of the squares of the errors or deviations.It penalizes larger error more heavly, making it appropriate for measuring accuracy of model's predictions."
      ],
      "metadata": {
        "id": "LJeXcQ8Jxet_"
      }
    },
    {
      "cell_type": "markdown",
      "source": [
        "**Derivatives of cost function:**\n",
        "\n",
        "\\\n",
        "\\begin{align*}\n",
        "\\frac{\\partial MSE}{\\partial w_1} &= -\\frac{2}{n} \\sum_{i=1}^{n} x_i^2 \\left( y_i - (\\hat{w}_1 x_i^2 + \\hat{w}_2 x_i + \\hat{b}) \\right) \\\\\n",
        "\\frac{\\partial MSE}{\\partial w_2} &= -\\frac{2}{n} \\sum_{i=1}^{n} x_i \\left( y_i - (\\hat{w}_1 x_i^2 + \\hat{w}_2 x_i + \\hat{b}) \\right) \\\\\n",
        "\\frac{\\partial MSE}{\\partial b} &= -\\frac{2}{n} \\sum_{i=1}^{n} \\left( y_i - (\\hat{w}_1 x_i^2 + \\hat{w}_2 x_i + \\hat{b}) \\right)\n",
        "\\end{align*}\n",
        "\\\n",
        "**Gradient Descent Algorithm:**\n",
        "```\n",
        "Repeat until converges:\n",
        "```\n",
        "\n",
        "**Gradient Descent Algorithm:**\n",
        "\n",
        "Repeat until convergence:\\\n",
        "Gradient descent involves iteratively updating the parameters using the derivatives of the cost function until convergence.\n",
        "\\[\n",
        "\\begin{align*}\n",
        "w_1 &:= w_1 - \\alpha \\frac{\\partial MSE}{\\partial w_1} \\\\\n",
        "w_2 &:= w_2 - \\alpha \\frac{\\partial MSE}{\\partial w_2} \\\\\n",
        "b &:= b - \\alpha \\frac{\\partial MSE}{\\partial b}\n",
        "\\end{align*}\n",
        "\\]\n",
        "\n",
        "where $\\alpha$ is the learning rate.\""
      ],
      "metadata": {
        "id": "sTQ46QsyyuYG"
      }
    },
    {
      "cell_type": "markdown",
      "source": [
        "## Implementation of the model"
      ],
      "metadata": {
        "id": "7bzYFCh5zIL4"
      }
    },
    {
      "cell_type": "code",
      "source": [
        "import numpy as np\n",
        "\n",
        "import pandas as pd\n",
        "\n",
        "import matplotlib.pyplot as plt\n",
        "\n",
        "data = pd.read_csv(\"Position_Salaries.csv\")\n",
        "\n",
        "def feature_scaling(X):\n",
        "\n",
        "    mean = np.mean(X, axis=0)\n",
        "\n",
        "    std_dev = np.std(X, axis=0)\n",
        "\n",
        "    X_scaled = (X - mean) / std_dev\n",
        "\n",
        "    return X_scaled, mean, std_dev\n",
        "\n",
        "def add_polynomial_features(X, degree):\n",
        "\n",
        "    X_poly = np.ones((len(X), 1))\n",
        "\n",
        "    for i in range(1, degree + 1):\n",
        "\n",
        "        X_poly = np.append(X_poly, X ** i, axis=1)\n",
        "\n",
        "    return X_poly\n",
        "\n",
        "def polynomial_regression(X, y, degree, learning_rate, iterations):\n",
        "\n",
        "    m = len(y)\n",
        "\n",
        "    X_poly = add_polynomial_features(X, degree)\n",
        "\n",
        "    n = X_poly.shape[1]\n",
        "\n",
        "    theta = np.zeros(n)\n",
        "\n",
        "    cost_history = []\n",
        "\n",
        "    for _ in range(iterations):\n",
        "\n",
        "        predictions = np.dot(X_poly, theta)\n",
        "\n",
        "        error = predictions - y\n",
        "\n",
        "        cost = np.sum(error ** 2) / (2 * m)\n",
        "\n",
        "        cost_history.append(cost)\n",
        "\n",
        "        gradients = np.dot(X_poly.T, error) / m\n",
        "\n",
        "        theta -= learning_rate * gradients\n",
        "\n",
        "    return theta, cost_history\n",
        "\n",
        "def mean_squared_error(X, y, theta):\n",
        "\n",
        "    m = len(y)\n",
        "\n",
        "    predictions = np.dot(X, theta)\n",
        "\n",
        "    error = predictions - y\n",
        "\n",
        "    cost = np.sum(error ** 2) / (2 * m)\n",
        "\n",
        "    return cost\n",
        "\n",
        "X = data.iloc[:, 1:2].values\n",
        "\n",
        "y = data.iloc[:, 2].values\n",
        "\n",
        "X_scaled, mean_X, std_dev_X = feature_scaling(X)\n",
        "\n",
        "\n",
        "degree = 2\n",
        "\n",
        "learning_rate = 0.01\n",
        "\n",
        "iterations = 1000\n",
        "\n",
        "theta, cost_history = polynomial_regression(X_scaled, y, degree, learning_rate, iterations)\n",
        "\n",
        "plt.scatter(X, y, color='red')\n",
        "\n",
        "plt.plot(X, np.dot(add_polynomial_features(X_scaled, degree), theta), color='blue')\n",
        "\n",
        "plt.title('Polynomial Regression (Degree 2)')\n",
        "\n",
        "plt.xlabel('Position level')\n",
        "\n",
        "plt.ylabel('Salary')\n",
        "\n",
        "plt.show()\n",
        "\n",
        "plt.plot(range(1, iterations + 1), cost_history, color='green')\n",
        "\n",
        "plt.title('Iteration vs. Cost')\n",
        "\n",
        "plt.xlabel('Iterations')\n",
        "\n",
        "plt.ylabel('Cost')\n",
        "\n",
        "plt.show()\n",
        "\n",
        "\n",
        "new_position_level = 7.5\n",
        "\n",
        "scaled_new_position_level = np.array([[new_position_level]])\n",
        "\n",
        "scaled_new_position_level = (scaled_new_position_level - mean_X) / std_dev_X\n",
        "\n",
        "X_new_poly = add_polynomial_features(scaled_new_position_level, degree)\n",
        "\n",
        "predicted_salary = np.dot(X_new_poly, theta)\n",
        "\n",
        "predicted_salary_value = predicted_salary.item()\n",
        "\n",
        "print(\"Predicted Salary for Position Level {}: ${:.2f}\".format(new_position_level, predicted_salary_value))\n"
      ],
      "metadata": {
        "colab": {
          "base_uri": "https://localhost:8080/",
          "height": 944
        },
        "id": "I131NmtXYbmD",
        "outputId": "9e948be9-fa5b-4901-f089-3a8c9f23125d"
      },
      "execution_count": 3,
      "outputs": [
        {
          "output_type": "display_data",
          "data": {
            "text/plain": [
              "<Figure size 640x480 with 1 Axes>"
            ],
            "image/png": "[encoded data removed]"
          },
          "metadata": {}
        },
        {
          "output_type": "display_data",
          "data": {
            "text/plain": [
              "<Figure size 640x480 with 1 Axes>"
            ],
            "image/png": "[encoded data removed]"
          },
          "metadata": {}
        },
        {
          "output_type": "stream",
          "name": "stdout",
          "text": [
            "Predicted Salary for Position Level 7.5: $329063.31\n"
          ]
        }
      ]
    },
    {
      "cell_type": "markdown",
      "source": [
        "* What is learning rate?\n",
        "> * It is the size of step taken during gradient descent to update the parameters.It helps in convergence and stablity of algorithm."
      ],
      "metadata": {
        "id": "ZbEQtEJzwkRF"
      }
    },
    {
      "cell_type": "markdown",
      "source": [
        "* What will happen if the learning rate is too large?\n",
        "> * The algorithm may overshoot the minimum of cost function and fail to converge.This will produse divergence and instablity."
      ],
      "metadata": {
        "id": "aGy7gj-aw8oE"
      }
    },
    {
      "cell_type": "markdown",
      "source": [
        "* What will happen if the learning rate is too small?\n",
        "> * The algorithm may take small steps towards minimum of cost function and fail to converge.This will produce divergence and instablity."
      ],
      "metadata": {
        "id": "FSbglnEexDu6"
      }
    },
    {
      "cell_type": "markdown",
      "source": [
        "* If you what to change the second order (quadratic) model to third order model what all things will change in the above code?\n",
        "> * \\\n",
        "\\begin{align*}\n",
        "  \\\n",
        "w_1x_1^3 + w_2x_1^2 + w_3x_1 + b\n",
        "\\\n",
        "\\end{align*}\n",
        "\n",
        "\n",
        "\n",
        "> * The cost function will remain same because it doesnot change with degree.\n",
        "> * The derivative of cost function w.r.t.\n",
        "$w_1, w_2, w_3$ and b need to be computed and used in gradient decent algorithm.\n",
        "\n",
        "> * initialize $w_1, w_2, w_3$ and b appropriately.\n",
        "> * we can adjust the plotting function to accomodate third-order model."
      ],
      "metadata": {
        "id": "mLKQI4KlxOBK"
      }
    },
    {
      "cell_type": "markdown",
      "source": [],
      "metadata": {
        "id": "0tgDXPb3w-yP"
      }
    },
    {
      "cell_type": "code",
      "source": [],
      "metadata": {
        "id": "BYxQ3aBLYN0Y"
      },
      "execution_count": null,
      "outputs": []
    }
  ]
}